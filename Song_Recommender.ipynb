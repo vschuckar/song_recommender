{
 "cells": [
  {
   "cell_type": "code",
   "execution_count": 1,
   "id": "752e1c5d",
   "metadata": {},
   "outputs": [],
   "source": [
    "import functions as func"
   ]
  },
  {
   "cell_type": "code",
   "execution_count": 2,
   "id": "a5ca302f",
   "metadata": {},
   "outputs": [
    {
     "name": "stdout",
     "output_type": "stream",
     "text": [
      "Give me the title of a song:jingle bell rock\n",
      "Tell me the name of the artist:bobby helms\n",
      "\n",
      "\n",
      " ___|)________________________________________________________)\n",
      "|___/____________________________|___________________________||\n",
      "|__/|_______/|____/|_____/|______|___________________________||\n",
      "|_/(|,\\____/_|___/_|____/_|______|___________________________||\n",
      "|_\\_|_/___|__|__|__|___|__|___|__|___________________________||\n",
      "|   |     | ()  | ()   | ()   |  |                           ||\n",
      "| (_|   -()-  -()-   -()-   -()- | -()-  -()-  -()-   -()-   ||\n",
      "|________________________________|__|__()_|__()_|__()__|_____||\n",
      "|__/___\\_._______________________|__|__|__|__|__|__|___|_____||\n",
      "|__\\___|_._______________________|___\\_|___\\_|___\\_|___|_____||\n",
      "|_____/__________________________|____\\|____\\|____\\|_________||\n",
      "|____/___________________________|___________________________||\n",
      "\n",
      "\n",
      "\n",
      "                title         artist                                            track_link\n",
      "black and tan fantasy duke ellington https://open.spotify.com/track/5iltwljBW1H5ScLeeiB9ZB\n",
      "       i'm a believer    the monkees https://open.spotify.com/track/4h2jrA7MTbFNk1HK1FYdak\n",
      "    steal my sunshine            len https://open.spotify.com/track/4agp6oHofabdUedr0B1krj\n",
      "      johnny b. goode    chuck berry https://open.spotify.com/track/2QfiRTz5Yc8DdShCxG1tB2\n",
      "      sunny afternoon      the kinks https://open.spotify.com/track/09Plbz3Ja2gxU9xCsqA5KY\n",
      "\n",
      "\n",
      "Do you want another recommendation? Yes or No?yes\n",
      "Give me the title of a song:black and tan fantasy\n",
      "Tell me the name of the artist:duke ellington\n",
      "\n",
      "\n",
      " ___|)________________________________________________________)\n",
      "|___/____________________________|___________________________||\n",
      "|__/|_______/|____/|_____/|______|___________________________||\n",
      "|_/(|,\\____/_|___/_|____/_|______|___________________________||\n",
      "|_\\_|_/___|__|__|__|___|__|___|__|___________________________||\n",
      "|   |     | ()  | ()   | ()   |  |                           ||\n",
      "| (_|   -()-  -()-   -()-   -()- | -()-  -()-  -()-   -()-   ||\n",
      "|________________________________|__|__()_|__()_|__()__|_____||\n",
      "|__/___\\_._______________________|__|__|__|__|__|__|___|_____||\n",
      "|__\\___|_._______________________|___\\_|___\\_|___\\_|___|_____||\n",
      "|_____/__________________________|____\\|____\\|____\\|_________||\n",
      "|____/___________________________|___________________________||\n",
      "\n",
      "\n",
      "\n",
      "                                             title          artist                                            track_link\n",
      "                                   born to be wild     steppenwolf https://open.spotify.com/track/3lN8PP6R2IxbLP05QpYXng\n",
      "(what's so funny 'bout) peace love & understanding  elvis costello https://open.spotify.com/track/77XzsYwTkvLoveW01Lanrk\n",
      "                                            vienna        ultravox https://open.spotify.com/track/7ioy6ppmN9Rn8Pm5axNzUP\n",
      "                  daft punk is playing at my house lcd soundsystem https://open.spotify.com/track/73mlvsfJM2qwlDUJxeaatI\n",
      "                                       the concept teenage fanclub https://open.spotify.com/track/702Gf3Gh3NsC1KbCFrlrpe\n",
      "\n",
      "\n",
      "Do you want another recommendation? Yes or No?no\n",
      "\n",
      "\n",
      "Thank you for using our Song-recommender. Have a great Weekend!\n",
      "   _______       __\n",
      " /   ------.   / ._`_\n",
      "|  /         ~--~    \\ \n",
      "| |             __    `.____________________ _^-----^ \n",
      "| |  I=|=======/--\\=========================| o o o | \n",
      "\\ |  I=|=======\\__/=========================|_o_o_o_| \n",
      " \\|                   /                       ~    ~ \n",
      "   \\       .---.    . \n",
      "     -----'     ~~'' \n",
      "Don't forget to keep on rocking!\n"
     ]
    }
   ],
   "source": [
    "func.song_recommender()"
   ]
  },
  {
   "cell_type": "code",
   "execution_count": null,
   "id": "03dc5064",
   "metadata": {},
   "outputs": [],
   "source": []
  }
 ],
 "metadata": {
  "kernelspec": {
   "display_name": "Python 3 (ipykernel)",
   "language": "python",
   "name": "python3"
  },
  "language_info": {
   "codemirror_mode": {
    "name": "ipython",
    "version": 3
   },
   "file_extension": ".py",
   "mimetype": "text/x-python",
   "name": "python",
   "nbconvert_exporter": "python",
   "pygments_lexer": "ipython3",
   "version": "3.11.5"
  }
 },
 "nbformat": 4,
 "nbformat_minor": 5
}
