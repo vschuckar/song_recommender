{
 "cells": [
  {
   "cell_type": "code",
   "execution_count": null,
   "id": "4fac7610",
   "metadata": {},
   "outputs": [],
   "source": [
    "import numpy as np\n",
    "import pandas as pd\n",
    "import functions as func"
   ]
  },
  {
   "cell_type": "code",
   "execution_count": null,
   "id": "79dbefcc",
   "metadata": {},
   "outputs": [],
   "source": [
    "full_df = pd.read_csv(\"full_df.csv\")\n",
    "full_df.drop(columns = 'Unnamed: 0', inplace = True)\n",
    "full_df.columns"
   ]
  },
  {
   "cell_type": "code",
   "execution_count": null,
   "id": "aafa003a",
   "metadata": {},
   "outputs": [],
   "source": [
    "cluster_df = pd.read_csv(\"X_umap_transformed_df_UMAP_HDBSCAN.csv\")\n",
    "cluster_df.drop(columns = 'Unnamed: 0', inplace = True)\n",
    "#cluster_df"
   ]
  },
  {
   "cell_type": "code",
   "execution_count": null,
   "id": "f1129fb8",
   "metadata": {},
   "outputs": [],
   "source": [
    "final_df = pd.concat([full_df,cluster_df],axis=1)\n",
    "final_df_num = final_df.select_dtypes(np.number)\n"
   ]
  },
  {
   "cell_type": "code",
   "execution_count": null,
   "id": "d95f58f5",
   "metadata": {},
   "outputs": [],
   "source": [
    "#title = input(\"Give me the title of a song:\")\n",
    "#artist = input(\"Tell me the name of the artist:\")"
   ]
  },
  {
   "cell_type": "code",
   "execution_count": null,
   "id": "5b6ff6ea",
   "metadata": {},
   "outputs": [],
   "source": [
    "title = \"Jingle Bell Rock\"\n",
    "artist = \"Bobby Helms\""
   ]
  },
  {
   "cell_type": "code",
   "execution_count": null,
   "id": "a6376847",
   "metadata": {},
   "outputs": [],
   "source": [
    "id_input_song = func.search_song(title, artist, limit=1)\n",
    "#id_input_song"
   ]
  },
  {
   "cell_type": "code",
   "execution_count": null,
   "id": "02df2baf",
   "metadata": {},
   "outputs": [],
   "source": [
    "id_input_song_audio_features = pd.DataFrame(func.get_single_audio_features(id_input_song))"
   ]
  },
  {
   "cell_type": "code",
   "execution_count": null,
   "id": "98042ee6",
   "metadata": {},
   "outputs": [],
   "source": [
    "id_input_song_audio_features_num = id_input_song_audio_features.select_dtypes(np.number)\n",
    "#id_input_song_audio_features_num"
   ]
  },
  {
   "cell_type": "markdown",
   "id": "54cb5dd9",
   "metadata": {},
   "source": [
    "## Scale the input"
   ]
  },
  {
   "cell_type": "markdown",
   "id": "8081841b",
   "metadata": {},
   "source": [
    "## Get the UMAP from input"
   ]
  },
  {
   "cell_type": "code",
   "execution_count": null,
   "id": "e5715196",
   "metadata": {},
   "outputs": [],
   "source": [
    "input_scaled_umap = func.apply_scale_umap(id_input_song_audio_features_num)"
   ]
  },
  {
   "cell_type": "code",
   "execution_count": null,
   "id": "4364579d",
   "metadata": {},
   "outputs": [],
   "source": [
    "input_scaled_umap_df = pd.DataFrame(input_scaled_umap[1])\n",
    "#input_scaled_umap_df.values"
   ]
  },
  {
   "cell_type": "markdown",
   "id": "fc891b16",
   "metadata": {},
   "source": [
    "## Use the scipy.spatial.distance_matrix to compute the distance between input and every song in the data"
   ]
  },
  {
   "cell_type": "code",
   "execution_count": null,
   "id": "db8c545d",
   "metadata": {},
   "outputs": [],
   "source": [
    "umap_df = pd.read_csv(\"X_umap_transformed_df_UMAP_HDBSCAN.csv\")\n",
    "umap_df_new = umap_df.drop(columns = ['Unnamed: 0','cluster'])\n",
    "#umap_df_new.values"
   ]
  },
  {
   "cell_type": "code",
   "execution_count": null,
   "id": "b1573584",
   "metadata": {},
   "outputs": [],
   "source": [
    "from scipy.spatial import distance_matrix\n",
    "distance = distance_matrix(input_scaled_umap_df, umap_df_new, p=2, threshold=1000000)\n",
    "#distance"
   ]
  },
  {
   "cell_type": "markdown",
   "id": "73173561",
   "metadata": {},
   "source": [
    "## compute the min distance and get the index with np.argmin()"
   ]
  },
  {
   "cell_type": "code",
   "execution_count": null,
   "id": "b99df1f1",
   "metadata": {},
   "outputs": [],
   "source": [
    "closest_distance_index = np.argmin(distance)\n",
    "#closest_distance_index"
   ]
  },
  {
   "cell_type": "markdown",
   "id": "a2c78691",
   "metadata": {},
   "source": [
    "## get the cluster from the song with the min distance "
   ]
  },
  {
   "cell_type": "code",
   "execution_count": null,
   "id": "a8c1875e",
   "metadata": {},
   "outputs": [],
   "source": [
    "input_cluster = cluster_df.iloc[closest_distance_index]\n",
    "input_cluster = input_cluster[2]"
   ]
  },
  {
   "cell_type": "markdown",
   "id": "a92f16f3",
   "metadata": {},
   "source": [
    "## if its hot!! \n",
    "get 5 samples with the same cluster by using a filter df[(df[data_set]=='hot')&(df['cluster']==user_cluster)].sample(5)"
   ]
  },
  {
   "cell_type": "code",
   "execution_count": null,
   "id": "346a160f",
   "metadata": {},
   "outputs": [],
   "source": [
    "full_df = pd.concat([full_df,umap_df],axis = 1)\n",
    "full_df.drop(columns = 'Unnamed: 0', inplace = True)\n",
    "#full_df"
   ]
  },
  {
   "cell_type": "code",
   "execution_count": null,
   "id": "98313653",
   "metadata": {},
   "outputs": [],
   "source": [
    "hot_df = full_df[(full_df['dataset']=='hot')]\n",
    "#hot_df['id']"
   ]
  },
  {
   "cell_type": "code",
   "execution_count": null,
   "id": "6774419a",
   "metadata": {},
   "outputs": [],
   "source": [
    "if id_input_song in hot_df['id']:\n",
    "    sample_hot = full_df[(full_df['dataset']=='hot')&(full_df['cluster']==input_cluster)].sample(5)\n",
    "    output = sample_hot[['title','artist','track_href']].reset_index(drop=True, inplace=True)\n",
    "    print(output.to_string(index=False))\n",
    "    \n",
    "else:\n",
    "    sample_not_hot = full_df[(full_df['dataset']=='not_hot')&(full_df['cluster']==input_cluster)].sample(5)\n",
    "    output = sample_not_hot[['title','artist','track_href']].reset_index(drop=True)\n",
    "    print(output.to_string(index=False))"
   ]
  },
  {
   "cell_type": "markdown",
   "id": "86ac3829",
   "metadata": {},
   "source": [
    "## if its not hot!!\n",
    "get 5 samples with the same cluster by using a filter df[(df[data_set]=='not_hot')&(df['cluster']==user_cluster)].sample(5)"
   ]
  },
  {
   "cell_type": "markdown",
   "id": "505d8844",
   "metadata": {},
   "source": [
    "## ask for another recommendation"
   ]
  },
  {
   "cell_type": "code",
   "execution_count": 3,
   "id": "09bbff9f",
   "metadata": {},
   "outputs": [],
   "source": [
    "import numpy as np\n",
    "import pandas as pd\n",
    "import functions as func\n",
    "from time import sleep\n",
    "def song_recommender():\n",
    "    \n",
    "    #Import\n",
    "    full_df = pd.read_csv(\"full_df.csv\")\n",
    "    full_df.drop(columns = 'Unnamed: 0', inplace = True)\n",
    "    cluster_df = pd.read_csv(\"X_umap_transformed_df_UMAP_HDBSCAN.csv\")\n",
    "    cluster_df.drop(columns = 'Unnamed: 0', inplace = True)\n",
    "    \n",
    "    final_df = pd.concat([full_df,cluster_df],axis=1)\n",
    "    final_df_num = final_df.select_dtypes(np.number)\n",
    "        \n",
    "    #Enter title and artistname\n",
    "    #title = input(\"Give me the title of a song:\")\n",
    "    #title = title.lower()\n",
    "    loop = 0\n",
    "    while loop == 0:\n",
    "        title = input(\"Give me the title of a song:\")\n",
    "        title = title.lower()\n",
    "        if title in full_df['title'].values:\n",
    "            loop = 1\n",
    "        else:\n",
    "            print(\"Unfortunately your title was not found. Please try another one.\")\n",
    "            loop = 0\n",
    "    loop = 0\n",
    "    while loop == 0:\n",
    "        artist = input(\"Tell me the name of the artist:\")\n",
    "        artist = artist.lower()\n",
    "        if artist in full_df['artist'].values:\n",
    "            loop = 1\n",
    "        else:\n",
    "            print(\"Unfortunately your artist was not found. Please try another one.\")\n",
    "            loop = 0\n",
    "       \n",
    "    print()\n",
    "    print()\n",
    "    #searching for song id\n",
    "    id_input_song = func.search_song(title, artist, limit=1)\n",
    "    \n",
    "    print(\"searching for audio features\")\n",
    "    id_input_song_audio_features = pd.DataFrame(func.get_single_audio_features(id_input_song))\n",
    "    id_input_song_audio_features_num = id_input_song_audio_features.select_dtypes(np.number)\n",
    "    \n",
    "    print(\"apply scaler and umap\")\n",
    "    input_scaled_umap = func.apply_scale_umap(id_input_song_audio_features_num)\n",
    "    input_scaled_umap_df = pd.DataFrame(input_scaled_umap[1])\n",
    "    \n",
    "    print(\"import umap_df and concat to full_df\")\n",
    "    umap_df = pd.read_csv(\"X_umap_transformed_df_UMAP_HDBSCAN.csv\")\n",
    "    umap_df_new = umap_df.drop(columns = ['Unnamed: 0','cluster'])\n",
    "    full_df = pd.concat([full_df,umap_df],axis = 1)\n",
    "    full_df.drop(columns = 'Unnamed: 0', inplace = True)\n",
    "   \n",
    "    print(\"computing distance_matrix and closest distance\")\n",
    "    from scipy.spatial import distance_matrix\n",
    "    distance = distance_matrix(input_scaled_umap_df, umap_df_new, p=2, threshold=1000000)\n",
    "    closest_distance_index = np.argmin(distance)\n",
    "    \n",
    "    print(\"define cluster of the imported song\")\n",
    "    input_cluster = cluster_df.iloc[closest_distance_index]\n",
    "    input_cluster = input_cluster.values[2]\n",
    "\n",
    "    \n",
    "    #checking if the song is in the Hot Song list and print 5 samples\n",
    "    hot_df = full_df[(full_df['dataset']=='hot')]\n",
    "    \n",
    "    print(\" ___|)________________________________________________________)\")\n",
    "    sleep(1)\n",
    "    print(\"|___/____________________________|___________________________||\")\n",
    "    sleep(0.9)\n",
    "    print(\"|__/|_______/|____/|_____/|______|___________________________||\")\n",
    "    sleep(0.8)\n",
    "    print(\"|_/(|,\\____/_|___/_|____/_|______|___________________________||\")\n",
    "    sleep(0.7)\n",
    "    print(\"|_\\_|_/___|__|__|__|___|__|___|__|___________________________||\")\n",
    "    sleep(0.6)\n",
    "    print(\"|   |     | ()  | ()   | ()   |  |                           ||\")\n",
    "    sleep(0.5)\n",
    "    print(\"| (_|   -()-  -()-   -()-   -()- | -()-  -()-  -()-   -()-   ||\")\n",
    "    sleep(0.4)\n",
    "    print(\"|________________________________|__|__()_|__()_|__()__|_____||\")\n",
    "    sleep(0.3)\n",
    "    print(\"|__/___\\_._______________________|__|__|__|__|__|__|___|_____||\")\n",
    "    sleep(0.2)\n",
    "    print(\"|__\\___|_._______________________|___\\_|___\\_|___\\_|___|_____||\")\n",
    "    sleep(0.1)\n",
    "    print(\"|_____/__________________________|____\\|____\\|____\\|_________||\")\n",
    "    sleep(0.1)\n",
    "    print(\"|____/___________________________|___________________________||\")\n",
    "    \n",
    "    print()\n",
    "    print()\n",
    "    print()\n",
    "    \n",
    "    if id_input_song in hot_df['id']:\n",
    "        sample_hot = full_df[(full_df['dataset']=='hot')&(full_df['cluster']==input_cluster)].sample(5)\n",
    "        output = sample_hot[['title','artist','track_link']].reset_index(drop=True, inplace=True)\n",
    "        print(output.to_string(index=False))\n",
    "\n",
    "    else:\n",
    "        sample_not_hot = full_df[(full_df['dataset']=='not_hot')&(full_df['cluster']==input_cluster)].sample(5)\n",
    "        output = sample_not_hot[['title','artist','track_link']].reset_index(drop=True)\n",
    "        print(output.to_string(index=False))\n",
    "\n",
    "    #run the recommender again\n",
    "    print()\n",
    "    print()\n",
    "    question = input(\"Do you want another recommendation? Yes or No?\")\n",
    "    \n",
    "    if question.lower() == \"yes\":\n",
    "        song_recommender()\n",
    "    else:\n",
    "        print()\n",
    "        print()\n",
    "        print('Thank you for using our Song-recommender. Have a great Weekend!')\n",
    "        sleep(3)\n",
    "        print(\"   _______       __\")\n",
    "        print(\" /   ------.   / ._`_\")\n",
    "        print(\"|  /         ~--~    \\ \")\n",
    "        print(\"| |             __    `.____________________ _^-----^ \")\n",
    "        print(\"| |  I=|=======/--\\=========================| o o o | \")\n",
    "        print(\"\\ |  I=|=======\\__/=========================|_o_o_o_| \")\n",
    "        print(\" \\|                   /                       ~    ~ \")\n",
    "        print(\"   \\       .---.    . \")\n",
    "        print(\"     -----'     ~~'' \")\n",
    "\n",
    "        \n",
    "        print(\"Don't forget to keep on rocking!\")\n",
    "        pass\n",
    "    return       "
   ]
  },
  {
   "cell_type": "code",
   "execution_count": null,
   "id": "4cc19504",
   "metadata": {},
   "outputs": [
    {
     "name": "stdout",
     "output_type": "stream",
     "text": [
      "Give me the title of a song:jingle bell rock\n",
      "Tell me the name of the artist:bobby helms\n",
      "\n",
      "\n",
      "searching for audio features\n",
      "apply scaler and umap\n",
      "import umap_df and concat to full_df\n",
      "computing distance_matrix and closest distance\n",
      "define cluster of the imported song\n",
      " ___|)________________________________________________________)\n",
      "|___/____________________________|___________________________||\n",
      "|__/|_______/|____/|_____/|______|___________________________||\n",
      "|_/(|,\\____/_|___/_|____/_|______|___________________________||\n",
      "|_\\_|_/___|__|__|__|___|__|___|__|___________________________||\n",
      "|   |     | ()  | ()   | ()   |  |                           ||\n",
      "| (_|   -()-  -()-   -()-   -()- | -()-  -()-  -()-   -()-   ||\n",
      "|________________________________|__|__()_|__()_|__()__|_____||\n",
      "|__/___\\_._______________________|__|__|__|__|__|__|___|_____||\n",
      "|__\\___|_._______________________|___\\_|___\\_|___\\_|___|_____||\n",
      "|_____/__________________________|____\\|____\\|____\\|_________||\n",
      "|____/___________________________|___________________________||\n",
      "\n",
      "\n",
      "\n",
      "                      title                               artist                                            track_link\n",
      "              feel the pain                         dinosaur jr. https://open.spotify.com/track/28c4nfBHdb3xviamRCEsIe\n",
      "i wonder if i take you home lisa lisa & cult jam with full force https://open.spotify.com/track/3ZIUOVEIjIlVbdyIynJoFq\n",
      "         fix up, look sharp                        dizzee rascal https://open.spotify.com/track/0AOeHlRaiVoSMjjoB5fB5i\n",
      "                   waterloo                                 abba https://open.spotify.com/track/3Dy4REq8O09IlgiwuHQ3sk\n",
      "                       torn                    natalie imbruglia https://open.spotify.com/track/1Jaah2tmN9Hv81A87KZ1MU\n",
      "\n",
      "\n"
     ]
    }
   ],
   "source": [
    "song_recommender()"
   ]
  },
  {
   "cell_type": "code",
   "execution_count": null,
   "id": "5994c0e3",
   "metadata": {},
   "outputs": [],
   "source": [
    "func.search_song(\"Jile Bell Rock\", \"Bobby Helms\", limit=1)"
   ]
  },
  {
   "cell_type": "code",
   "execution_count": null,
   "id": "8b551699",
   "metadata": {},
   "outputs": [],
   "source": [
    "title = \"Jile Bell Rock\"\n",
    "artist = \"Bobby Helms\""
   ]
  },
  {
   "cell_type": "code",
   "execution_count": null,
   "id": "66bf8232",
   "metadata": {},
   "outputs": [],
   "source": [
    "import pandas as pd\n",
    "import numpy as np\n",
    "import sys\n",
    "from config import *\n",
    "import spotipy\n",
    "import json\n",
    "from spotipy.oauth2 import SpotifyClientCredentials\n",
    "from time import sleep\n",
    "import pickle\n",
    "search_query = f\"track:{title} artist:{artist}\"\n",
    "sp = spotipy.Spotify(auth_manager=SpotifyClientCredentials(client_id=Client_ID, client_secret=Client_Secret))\n",
    "sp.search(q=search_query, limit=1)['tracks']['items'][0]['external_urls']"
   ]
  },
  {
   "cell_type": "code",
   "execution_count": null,
   "id": "0a841a41",
   "metadata": {},
   "outputs": [],
   "source": [
    "url = \"https://open.spotify.com/intl-de/track/\"str(id)"
   ]
  },
  {
   "cell_type": "code",
   "execution_count": null,
   "id": "aef2bbc9",
   "metadata": {},
   "outputs": [],
   "source": [
    "url"
   ]
  },
  {
   "cell_type": "code",
   "execution_count": null,
   "id": "63de1c90",
   "metadata": {},
   "outputs": [],
   "source": [
    "def song_recommender():\n",
    "    \n",
    "    full_df = pd.read_csv(\"full_df.csv\")\n",
    "    full_df.drop(columns = 'Unnamed: 0', inplace = True)\n",
    "    cluster_df = pd.read_csv(\"X_umap_transformed_df_UMAP_HDBSCAN.csv\")\n",
    "    cluster_df.drop(columns = 'Unnamed: 0', inplace = True)\n",
    "    \n",
    "    final_df = pd.concat([full_df,cluster_df],axis=1)\n",
    "    final_df_num = final_df.select_dtypes(np.number)\n",
    "    \n",
    "    title = input(\"Give me the title of a song:\")\n",
    "    artist = input(\"Tell me the name of the artist:\")\n",
    "    \n",
    "   \n",
    "    id_input_song = func.search_song(title, artist, limit=1)\n",
    "    id_input_song_audio_features = pd.DataFrame(func.get_single_audio_features(id_input_song))\n",
    "    id_input_song_audio_features_num = id_input_song_audio_features.select_dtypes(np.number)\n",
    "    \n",
    "    input_scaled_umap = func.apply_scale_umap(id_input_song_audio_features_num)\n",
    "    input_scaled_umap_df = pd.DataFrame(input_scaled_umap[1])\n",
    "\n",
    "    umap_df = pd.read_csv(\"X_umap_transformed_df_UMAP_HDBSCAN.csv\")\n",
    "    umap_df_new = umap_df.drop(columns = ['Unnamed: 0','cluster'])\n",
    "\n",
    "    from scipy.spatial import distance_matrix\n",
    "    distance = distance_matrix(input_scaled_umap_df, umap_df_new, p=2, threshold=1000000)\n",
    "\n",
    "    closest_distance_index = np.argmin(distance)\n",
    "\n",
    "    input_cluster = cluster_df.iloc[closest_distance_index]\n",
    "    input_cluster = input_cluster[2]\n",
    "\n",
    "    full_df = pd.concat([full_df,umap_df],axis = 1)\n",
    "    full_df.drop(columns = 'Unnamed: 0', inplace = True)\n",
    "\n",
    "    hot_df = full_df[(full_df['dataset']=='hot')]\n",
    "\n",
    "    if id_input_song in hot_df['id']:\n",
    "        sample_hot = full_df[(full_df['dataset']=='hot')&(full_df['cluster']==input_cluster)].sample(5)\n",
    "        output = pd.DataFrame(sample_hot[['title','artist','track_href']].reset_index(drop=True))\n",
    "        display(output)\n",
    "    \n",
    "    else:\n",
    "        sample_not_hot = full_df[(full_df['dataset']=='not_hot')&(full_df['cluster']==input_cluster)].sample(5)\n",
    "        output = pd.DataFrame(sample_not_hot[['title','artist','track_href']].reset_index(drop=True))\n",
    "        display(output)\n",
    "\n",
    "    question = input(\"Do you want another recommendation? Yes or No?\")\n",
    "    \n",
    "    if question.lower() == \"yes\":\n",
    "        song_recommender()\n",
    "    else:\n",
    "        pass\n",
    "            "
   ]
  },
  {
   "cell_type": "code",
   "execution_count": null,
   "id": "540511c3",
   "metadata": {},
   "outputs": [],
   "source": [
    "\"id\""
   ]
  },
  {
   "cell_type": "code",
   "execution_count": null,
   "id": "2fd7e212",
   "metadata": {},
   "outputs": [],
   "source": []
  }
 ],
 "metadata": {
  "kernelspec": {
   "display_name": "Python 3 (ipykernel)",
   "language": "python",
   "name": "python3"
  },
  "language_info": {
   "codemirror_mode": {
    "name": "ipython",
    "version": 3
   },
   "file_extension": ".py",
   "mimetype": "text/x-python",
   "name": "python",
   "nbconvert_exporter": "python",
   "pygments_lexer": "ipython3",
   "version": "3.11.5"
  }
 },
 "nbformat": 4,
 "nbformat_minor": 5
}
